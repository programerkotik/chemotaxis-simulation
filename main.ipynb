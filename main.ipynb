{
 "cells": [
  {
   "cell_type": "markdown",
   "metadata": {},
   "source": [
    "# Model of chemotaxis"
   ]
  },
  {
   "cell_type": "markdown",
   "metadata": {},
   "source": [
    "In this notebook let's explore the simulation of chemotaxis. We will compare two possible models. The first one - classical model, assumes that cells sense the concentration gradient of a substance and are able to move into the direction of increasing concentration. In the second model, cells do the same but after they make a move they also consume some amount of substance at their location. The goal of our simulation is to find out if the second, so called self-generated model, has any advantages over the simpler model."
   ]
  },
  {
   "cell_type": "code",
   "execution_count": 1,
   "metadata": {},
   "outputs": [],
   "source": [
    "%load_ext autoreload\n",
    "%autoreload 2"
   ]
  },
  {
   "cell_type": "code",
   "execution_count": 2,
   "metadata": {},
   "outputs": [],
   "source": [
    "import numpy as np\n",
    "import matplotlib.pyplot as plt\n",
    "from IPython.display import clear_output\n",
    "from ipywidgets import interact, interact_manual, fixed\n",
    "\n",
    "from run import *"
   ]
  },
  {
   "cell_type": "markdown",
   "metadata": {},
   "source": [
    "Let's upload the maze map. Different maps are created in the Figma - online graphical editor, and saved as .png images. "
   ]
  },
  {
   "cell_type": "code",
   "execution_count": 3,
   "metadata": {},
   "outputs": [
    {
     "data": {
      "image/png": "[encoded data removed]",
      "text/plain": [
       "<Figure size 432x288 with 1 Axes>"
      ]
     },
     "metadata": {
      "needs_background": "light"
     },
     "output_type": "display_data"
    }
   ],
   "source": [
    "path = 'graphics/maze1.png'\n",
    "create_gridmap(path)"
   ]
  },
  {
   "cell_type": "markdown",
   "metadata": {},
   "source": [
    "## Experiments"
   ]
  },
  {
   "cell_type": "markdown",
   "metadata": {},
   "source": [
    "<br> First of all, let's explore the parameters of the model. <br>\n",
    "1. __D__ is a so called mass diffusivity coefficient. It is the  parameter in the model that describes diffusion. The higher it is, the faster the substance is spread out. \n",
    "2. __C__ is the second and last parameter to describe diffusion. It is the initial concentration in the point source of the substance. Note, that the energy perservation works in the simulation. So the C will only descrease if substance is \"eaten\" by cells.\n",
    "3. __n__ is the number of cells in the simulation.\n",
    "4. __k_max__ is the parameter described more precisely in the pdf to this simulation. It originated from Michaelis-Menten kinetics and describes the concentation at the half the maxmimum speed of reaction. \n",
    "5. __V_max__ similarly coming from Michaelis-Menten kinetics describes the maximum speed of reaction. \n",
    "6. __self_generated__ is the binary parameters. It runs self-generated model if selected, if not runs classical model.\n",
    "7. __n_runs__ describes the experiment itself, it sets the amount of generation the simulation should evolve. \n",
    "\n",
    "<br> Let's run the first simulation for only n_runs=500 to obtain the concentration map that we use next. <br>"
   ]
  },
  {
   "cell_type": "code",
   "execution_count": 4,
   "metadata": {},
   "outputs": [
    {
     "data": {
      "application/vnd.jupyter.widget-view+json": {
       "model_id": "ac0d0aeb5b7346e192380cf6777e8e0a",
       "version_major": 2,
       "version_minor": 0
      },
      "text/plain": [
       "interactive(children=(FloatSlider(value=500.05, description='Diffusivity', max=1000.0, min=0.1), IntSlider(val…"
      ]
     },
     "metadata": {},
     "output_type": "display_data"
    },
    {
     "data": {
      "text/plain": [
       "<function run.run_experiment(Diffusivity=(0.1, 1000.0), Concentration=(1000, 7000), n=(1, 100), k_max=(0.0, 1.0), V_max=(0.0, 1.0), self_generated=False, n_runs=(500, 10000), save=False, folder_name=' ', sources=None, kinetics_plot=False, unequal_sources=False)>"
      ]
     },
     "execution_count": 4,
     "metadata": {},
     "output_type": "execute_result"
    }
   ],
   "source": [
    "sources = [\n",
    "    [80, 370]\n",
    "]\n",
    "\n",
    "\n",
    "interact_manual(run_experiment, sources=fixed(sources))"
   ]
  },
  {
   "cell_type": "markdown",
   "metadata": {},
   "source": [
    "First of all, we observe that the big population is divided into two populations and each moves to its own source. Further, we see that the higher the parameters of Concentration and Diffusivity, the shorter is the time scale. If sources are unequal, cells still do prefer to move to the closest one, not to the bigger one. This is even true if the difference between two sources is higher than 14 times. "
   ]
  },
  {
   "cell_type": "markdown",
   "metadata": {},
   "source": [
    "### Michaelis-Menten kinetics"
   ]
  },
  {
   "cell_type": "markdown",
   "metadata": {},
   "source": [
    "Before going to further experiments let's first look at the Michaelis-Menten kinetics as we use it in the simulation. Here, we can play with parameters to see how it changes the kinetics."
   ]
  },
  {
   "cell_type": "code",
   "execution_count": 15,
   "metadata": {},
   "outputs": [
    {
     "data": {
      "application/vnd.jupyter.widget-view+json": {
       "model_id": "a72fdcd959164a128bba17325f290050",
       "version_major": 2,
       "version_minor": 0
      },
      "text/plain": [
       "interactive(children=(IntSlider(value=250, description='k_max', max=500), FloatSlider(value=0.55, description=…"
      ]
     },
     "metadata": {},
     "output_type": "display_data"
    },
    {
     "data": {
      "text/plain": [
       "<function run.kinetics(k_max=(0, 500), V_max=(0.1, 1))>"
      ]
     },
     "execution_count": 15,
     "metadata": {},
     "output_type": "execute_result"
    }
   ],
   "source": [
    "interact_manual(kinetics, continuous_update=True)"
   ]
  },
  {
   "cell_type": "markdown",
   "metadata": {},
   "source": [
    "Here, we can plot the decreasing concentration the rate of which will be dependent on the parameters from Michaelis-Menten kinetics. Select kinetics_plot to visualize the plot of these concentrations. "
   ]
  },
  {
   "cell_type": "code",
   "execution_count": 24,
   "metadata": {},
   "outputs": [
    {
     "data": {
      "application/vnd.jupyter.widget-view+json": {
       "model_id": "cf5047ea56a24141abb8b51c5050eec5",
       "version_major": 2,
       "version_minor": 0
      },
      "text/plain": [
       "interactive(children=(FloatSlider(value=500.05, description='Diffusivity', max=1000.0, min=0.1), IntSlider(val…"
      ]
     },
     "metadata": {},
     "output_type": "display_data"
    },
    {
     "data": {
      "text/plain": [
       "<function run.run_experiment(Diffusivity=(0.1, 1000.0), Concentration=(1000, 7000), n=(1, 100), k_max=(0.0, 1.0), V_max=(0.0, 1.0), self_generated=False, n_runs=(500, 10000), save=False, folder_name=' ', sources=None, kinetics_plot=False, unequal_sources=False)>"
      ]
     },
     "execution_count": 24,
     "metadata": {},
     "output_type": "execute_result"
    }
   ],
   "source": [
    "sources = [\n",
    "    [80, 370]\n",
    "]\n",
    "\n",
    "interact_manual(run_experiment, sources=fixed(sources))"
   ]
  },
  {
   "cell_type": "markdown",
   "metadata": {},
   "source": [
    "Now as we see how this parameter work let's start with exploring the model. For that, we will start with setting the concentration sources. It can be any number of sources defined as list of 2 coordinates pairs, each pair of x,y coordinate for one source. \n",
    "\n"
   ]
  },
  {
   "cell_type": "code",
   "execution_count": 25,
   "metadata": {},
   "outputs": [
    {
     "data": {
      "image/png": "[encoded data removed]",
      "text/plain": [
       "<Figure size 432x288 with 1 Axes>"
      ]
     },
     "metadata": {
      "needs_background": "light"
     },
     "output_type": "display_data"
    }
   ],
   "source": [
    "sources = [\n",
    "    [80, 370],\n",
    "    [20, 370]\n",
    "]\n",
    "\n",
    "show_sources(sources)"
   ]
  },
  {
   "cell_type": "markdown",
   "metadata": {},
   "source": [
    "Now, having these sources defined let's compare the behaviour of simple vs self-generated model in a simple maze with two sources. We can do so using the self_generated parameter.  "
   ]
  },
  {
   "cell_type": "code",
   "execution_count": 26,
   "metadata": {},
   "outputs": [
    {
     "data": {
      "application/vnd.jupyter.widget-view+json": {
       "model_id": "50e4cbec4954411e800b9fce34fe0a1f",
       "version_major": 2,
       "version_minor": 0
      },
      "text/plain": [
       "interactive(children=(FloatSlider(value=500.05, description='Diffusivity', max=1000.0, min=0.1), IntSlider(val…"
      ]
     },
     "metadata": {},
     "output_type": "display_data"
    },
    {
     "data": {
      "text/plain": [
       "<function run.run_experiment(Diffusivity=(0.1, 1000.0), Concentration=(1000, 7000), n=(1, 100), k_max=(0.0, 1.0), V_max=(0.0, 1.0), self_generated=False, n_runs=(500, 10000), save=False, folder_name=' ', sources=None, kinetics_plot=False, unequal_sources=False)>"
      ]
     },
     "execution_count": 26,
     "metadata": {},
     "output_type": "execute_result"
    }
   ],
   "source": [
    "interact_manual(run_experiment, sources=fixed(sources))"
   ]
  },
  {
   "cell_type": "markdown",
   "metadata": {},
   "source": [
    "Then, we can make the same experiment but having only one source defined and see how two models behave."
   ]
  },
  {
   "cell_type": "code",
   "execution_count": 27,
   "metadata": {},
   "outputs": [
    {
     "data": {
      "application/vnd.jupyter.widget-view+json": {
       "model_id": "29ee8a520e364aa78032fe4415b9050a",
       "version_major": 2,
       "version_minor": 0
      },
      "text/plain": [
       "interactive(children=(FloatSlider(value=500.05, description='Diffusivity', max=1000.0, min=0.1), IntSlider(val…"
      ]
     },
     "metadata": {},
     "output_type": "display_data"
    },
    {
     "data": {
      "text/plain": [
       "<function run.run_experiment(Diffusivity=(0.1, 1000.0), Concentration=(1000, 7000), n=(1, 100), k_max=(0.0, 1.0), V_max=(0.0, 1.0), self_generated=False, n_runs=(500, 10000), save=False, folder_name=' ', sources=None, kinetics_plot=False, unequal_sources=False)>"
      ]
     },
     "execution_count": 27,
     "metadata": {},
     "output_type": "execute_result"
    }
   ],
   "source": [
    "sources = [\n",
    "    [80, 370]\n",
    "]\n",
    "\n",
    "interact_manual(run_experiment, sources=fixed(sources))"
   ]
  },
  {
   "cell_type": "markdown",
   "metadata": {},
   "source": [
    "Next, we can experiment with the same settings but in a different environment. We will use the maze with one short dead end and one long path with a substance. "
   ]
  },
  {
   "cell_type": "code",
   "execution_count": 28,
   "metadata": {},
   "outputs": [
    {
     "data": {
      "image/png": "[encoded data removed]",
      "text/plain": [
       "<Figure size 432x288 with 1 Axes>"
      ]
     },
     "metadata": {
      "needs_background": "light"
     },
     "output_type": "display_data"
    }
   ],
   "source": [
    "path = 'graphics/maze2_dead_end.png'\n",
    "create_gridmap(path)"
   ]
  },
  {
   "cell_type": "markdown",
   "metadata": {},
   "source": [
    "Let's again set sources."
   ]
  },
  {
   "cell_type": "code",
   "execution_count": 29,
   "metadata": {},
   "outputs": [
    {
     "data": {
      "image/png": "[encoded data removed]",
      "text/plain": [
       "<Figure size 432x288 with 1 Axes>"
      ]
     },
     "metadata": {
      "needs_background": "light"
     },
     "output_type": "display_data"
    }
   ],
   "source": [
    "sources = [\n",
    "    [80, 370]\n",
    "]\n",
    "\n",
    "show_sources(sources)"
   ]
  },
  {
   "cell_type": "markdown",
   "metadata": {},
   "source": [
    "And run the similar set of experiment. "
   ]
  },
  {
   "cell_type": "code",
   "execution_count": 30,
   "metadata": {},
   "outputs": [
    {
     "data": {
      "application/vnd.jupyter.widget-view+json": {
       "model_id": "ff3a1e5bc16241eeb2356a44362d05e1",
       "version_major": 2,
       "version_minor": 0
      },
      "text/plain": [
       "interactive(children=(FloatSlider(value=500.05, description='Diffusivity', max=1000.0, min=0.1), IntSlider(val…"
      ]
     },
     "metadata": {},
     "output_type": "display_data"
    },
    {
     "data": {
      "text/plain": [
       "<function run.run_experiment(Diffusivity=(0.1, 1000.0), Concentration=(1000, 7000), n=(1, 100), k_max=(0.0, 1.0), V_max=(0.0, 1.0), self_generated=False, n_runs=(500, 10000), save=False, folder_name=' ', sources=None, kinetics_plot=False, unequal_sources=False)>"
      ]
     },
     "execution_count": 30,
     "metadata": {},
     "output_type": "execute_result"
    }
   ],
   "source": [
    "interact_manual(run_experiment, sources=fixed(sources))"
   ]
  },
  {
   "cell_type": "markdown",
   "metadata": {},
   "source": [
    "We can also play with a complex maze to see how two model model perform in comparison."
   ]
  },
  {
   "cell_type": "code",
   "execution_count": 5,
   "metadata": {},
   "outputs": [
    {
     "data": {
      "image/png": "[encoded data removed]",
      "text/plain": [
       "<Figure size 432x288 with 1 Axes>"
      ]
     },
     "metadata": {
      "needs_background": "light"
     },
     "output_type": "display_data"
    }
   ],
   "source": [
    "path = 'graphics/maze3.png'\n",
    "create_gridmap(path)"
   ]
  },
  {
   "cell_type": "code",
   "execution_count": 6,
   "metadata": {},
   "outputs": [
    {
     "data": {
      "image/png": "[encoded data removed]",
      "text/plain": [
       "<Figure size 432x288 with 1 Axes>"
      ]
     },
     "metadata": {
      "needs_background": "light"
     },
     "output_type": "display_data"
    }
   ],
   "source": [
    "# sources = [ [35,400],\n",
    "#     [160, 400]\n",
    "# ]\n",
    "\n",
    "sources = [ [200,200],\n",
    "    [160, 400]\n",
    "]\n",
    "show_sources(sources)"
   ]
  },
  {
   "cell_type": "code",
   "execution_count": 34,
   "metadata": {},
   "outputs": [
    {
     "data": {
      "application/vnd.jupyter.widget-view+json": {
       "model_id": "5d777af52361410f8e7a92ee4acf10bd",
       "version_major": 2,
       "version_minor": 0
      },
      "text/plain": [
       "interactive(children=(FloatSlider(value=500.05, description='Diffusivity', max=1000.0, min=0.1), IntSlider(val…"
      ]
     },
     "metadata": {},
     "output_type": "display_data"
    }
   ],
   "source": [
    "interact_manual(run_experiment, sources=fixed(sources));"
   ]
  },
  {
   "cell_type": "markdown",
   "metadata": {},
   "source": [
    "# The solution to a complex maze"
   ]
  },
  {
   "cell_type": "code",
   "execution_count": 7,
   "metadata": {},
   "outputs": [
    {
     "data": {
      "image/png": "[encoded data removed]",
      "text/plain": [
       "<Figure size 432x288 with 1 Axes>"
      ]
     },
     "metadata": {
      "needs_background": "light"
     },
     "output_type": "display_data"
    }
   ],
   "source": [
    "path = 'graphics/maze_4.png'\n",
    "create_gridmap(path)"
   ]
  },
  {
   "cell_type": "code",
   "execution_count": 8,
   "metadata": {},
   "outputs": [
    {
     "data": {
      "image/png": "[encoded data removed]",
      "text/plain": [
       "<Figure size 432x288 with 1 Axes>"
      ]
     },
     "metadata": {
      "needs_background": "light"
     },
     "output_type": "display_data"
    }
   ],
   "source": [
    "sources = [ [480,610],\n",
    "    [450, 500], [170, 500]\n",
    "]\n",
    "show_sources(sources)"
   ]
  },
  {
   "cell_type": "markdown",
   "metadata": {},
   "source": [
    "For the simple imposed gradient model, cells travel to the closed arm with the source, even if the source is not largest one. "
   ]
  },
  {
   "cell_type": "code",
   "execution_count": 9,
   "metadata": {},
   "outputs": [
    {
     "data": {
      "application/vnd.jupyter.widget-view+json": {
       "model_id": "6da8937ef1284ca5854233847d569e67",
       "version_major": 2,
       "version_minor": 0
      },
      "text/plain": [
       "interactive(children=(FloatSlider(value=500.05, description='Diffusivity', max=1000.0, min=0.1), IntSlider(val…"
      ]
     },
     "metadata": {},
     "output_type": "display_data"
    },
    {
     "data": {
      "text/plain": [
       "<function run.run_experiment(Diffusivity=(0.1, 1000.0), Concentration=(1000, 7000), n=(1, 100), k_max=(0.0, 1.0), V_max=(0.0, 1.0), self_generated=False, n_runs=(500, 10000), save=False, folder_name=' ', sources=None, kinetics_plot=False, unequal_sources=False)>"
      ]
     },
     "execution_count": 9,
     "metadata": {},
     "output_type": "execute_result"
    }
   ],
   "source": [
    "interact_manual(run_experiment, sources=fixed(sources))"
   ]
  },
  {
   "cell_type": "code",
   "execution_count": null,
   "metadata": {},
   "outputs": [],
   "source": []
  }
 ],
 "metadata": {
  "interpreter": {
   "hash": "b965bd67d9cba1120c281524f838e6b56272d9c1582af45ad4c5891b219c82d2"
  },
  "kernelspec": {
   "display_name": "Python 3 (ipykernel)",
   "language": "python",
   "name": "python3"
  },
  "language_info": {
   "codemirror_mode": {
    "name": "ipython",
    "version": 3
   },
   "file_extension": ".py",
   "mimetype": "text/x-python",
   "name": "python",
   "nbconvert_exporter": "python",
   "pygments_lexer": "ipython3",
   "version": "3.9.0"
  }
 },
 "nbformat": 4,
 "nbformat_minor": 2
}
